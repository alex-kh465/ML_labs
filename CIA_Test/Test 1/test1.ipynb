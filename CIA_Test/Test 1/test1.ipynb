{
 "cells": [
  {
   "cell_type": "code",
   "execution_count": 5,
   "metadata": {},
   "outputs": [
    {
     "data": {
      "text/plain": [
       "([3000], [7000], [10000, 12000, 15000])"
      ]
     },
     "execution_count": 5,
     "metadata": {},
     "output_type": "execute_result"
    }
   ],
   "source": [
    "steps = [3000, 7000, 10000, 12000, 15000]\n",
    "\n",
    "def bins(steps):\n",
    "    low_activity = []\n",
    "    moderate_Activity = []\n",
    "    High_Activity = []\n",
    "    for i in steps:\n",
    "        if i<= 5000:\n",
    "            low_activity.append(i)\n",
    "        elif i>5000 and i<10000:\n",
    "            moderate_Activity.append(i)\n",
    "        else:\n",
    "            High_Activity.append(i)\n",
    "    return low_activity,moderate_Activity,High_Activity\n",
    "bins(steps)\n",
    "\n",
    "\n"
   ]
  }
 ],
 "metadata": {
  "kernelspec": {
   "display_name": "ai",
   "language": "python",
   "name": "python3"
  },
  "language_info": {
   "codemirror_mode": {
    "name": "ipython",
    "version": 3
   },
   "file_extension": ".py",
   "mimetype": "text/x-python",
   "name": "python",
   "nbconvert_exporter": "python",
   "pygments_lexer": "ipython3",
   "version": "3.11.5"
  }
 },
 "nbformat": 4,
 "nbformat_minor": 2
}
